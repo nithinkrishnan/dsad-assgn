{
 "cells": [
  {
   "cell_type": "markdown",
   "metadata": {},
   "source": [
    "<h1>Assignment 2 - PS05 - [Confectionery]</h1>"
   ]
  },
  {
   "cell_type": "code",
   "execution_count": 12,
   "metadata": {},
   "outputs": [
    {
     "ename": "IndexError",
     "evalue": "list index out of range",
     "output_type": "error",
     "traceback": [
      "\u001b[1;31m---------------------------------------------------------------------------\u001b[0m",
      "\u001b[1;31mIndexError\u001b[0m                                Traceback (most recent call last)",
      "\u001b[1;32m<ipython-input-12-5d9e6af20c0d>\u001b[0m in \u001b[0;36m<module>\u001b[1;34m\u001b[0m\n\u001b[0;32m     82\u001b[0m     \u001b[0mc\u001b[0m \u001b[1;33m=\u001b[0m \u001b[0mConfectionery\u001b[0m\u001b[1;33m(\u001b[0m\u001b[1;33m[\u001b[0m\u001b[1;33m]\u001b[0m\u001b[1;33m,\u001b[0m \u001b[1;34m'inputPS05.txt'\u001b[0m\u001b[1;33m,\u001b[0m \u001b[1;34m'outputPS05.txt'\u001b[0m\u001b[1;33m)\u001b[0m\u001b[1;33m\u001b[0m\u001b[1;33m\u001b[0m\u001b[0m\n\u001b[0;32m     83\u001b[0m     \u001b[0mopen\u001b[0m\u001b[1;33m(\u001b[0m\u001b[0mc\u001b[0m\u001b[1;33m.\u001b[0m\u001b[0moutput_file\u001b[0m\u001b[1;33m,\u001b[0m \u001b[0mmode\u001b[0m \u001b[1;33m=\u001b[0m \u001b[1;34m'w'\u001b[0m\u001b[1;33m)\u001b[0m\u001b[1;33m.\u001b[0m\u001b[0mclose\u001b[0m\u001b[1;33m(\u001b[0m\u001b[1;33m)\u001b[0m\u001b[1;33m\u001b[0m\u001b[1;33m\u001b[0m\u001b[0m\n\u001b[1;32m---> 84\u001b[1;33m     \u001b[0mc\u001b[0m\u001b[1;33m.\u001b[0m\u001b[0mprepareConfectioneries\u001b[0m\u001b[1;33m(\u001b[0m\u001b[0mc\u001b[0m\u001b[1;33m.\u001b[0m\u001b[0minput_file\u001b[0m\u001b[1;33m)\u001b[0m\u001b[1;33m\u001b[0m\u001b[1;33m\u001b[0m\u001b[0m\n\u001b[0m",
      "\u001b[1;32m<ipython-input-12-5d9e6af20c0d>\u001b[0m in \u001b[0;36mprepareConfectioneries\u001b[1;34m(self, inputfile)\u001b[0m\n\u001b[0;32m     58\u001b[0m                     \u001b[1;31m# Extract the Chocoloate counts and add to confectionaries list\u001b[0m\u001b[1;33m\u001b[0m\u001b[1;33m\u001b[0m\u001b[1;33m\u001b[0m\u001b[0m\n\u001b[0;32m     59\u001b[0m                     \u001b[1;32melif\u001b[0m \u001b[1;33m(\u001b[0m \u001b[1;33m(\u001b[0m \u001b[1;34m'number'\u001b[0m \u001b[1;32min\u001b[0m \u001b[0mline\u001b[0m\u001b[1;33m[\u001b[0m\u001b[1;36m0\u001b[0m\u001b[1;33m]\u001b[0m\u001b[1;33m.\u001b[0m\u001b[0mlower\u001b[0m\u001b[1;33m(\u001b[0m\u001b[1;33m)\u001b[0m \u001b[1;33m)\u001b[0m \u001b[1;32mand\u001b[0m \u001b[1;33m(\u001b[0m \u001b[1;34m'order'\u001b[0m \u001b[1;32mnot\u001b[0m \u001b[1;32min\u001b[0m \u001b[0mline\u001b[0m\u001b[1;33m[\u001b[0m\u001b[1;36m0\u001b[0m\u001b[1;33m]\u001b[0m\u001b[1;33m.\u001b[0m\u001b[0mlower\u001b[0m\u001b[1;33m(\u001b[0m\u001b[1;33m)\u001b[0m \u001b[1;33m)\u001b[0m \u001b[1;33m)\u001b[0m\u001b[1;33m:\u001b[0m\u001b[1;33m\u001b[0m\u001b[1;33m\u001b[0m\u001b[0m\n\u001b[1;32m---> 60\u001b[1;33m                         \u001b[0mself\u001b[0m\u001b[1;33m.\u001b[0m\u001b[0maddToConfectioneries\u001b[0m\u001b[1;33m(\u001b[0m\u001b[0mline\u001b[0m\u001b[1;33m[\u001b[0m\u001b[1;36m1\u001b[0m\u001b[1;33m]\u001b[0m\u001b[1;33m,\u001b[0m \u001b[1;34m'NUM'\u001b[0m\u001b[1;33m)\u001b[0m\u001b[1;33m\u001b[0m\u001b[1;33m\u001b[0m\u001b[0m\n\u001b[0m\u001b[0;32m     61\u001b[0m \u001b[1;33m\u001b[0m\u001b[0m\n\u001b[0;32m     62\u001b[0m                     \u001b[1;31m# Arrange confectionaries\u001b[0m\u001b[1;33m\u001b[0m\u001b[1;33m\u001b[0m\u001b[1;33m\u001b[0m\u001b[0m\n",
      "\u001b[1;32m<ipython-input-12-5d9e6af20c0d>\u001b[0m in \u001b[0;36maddToConfectioneries\u001b[1;34m(self, itemArray, itemType)\u001b[0m\n\u001b[0;32m     19\u001b[0m             \u001b[1;32melse\u001b[0m\u001b[1;33m:\u001b[0m\u001b[1;33m\u001b[0m\u001b[1;33m\u001b[0m\u001b[0m\n\u001b[0;32m     20\u001b[0m                 \u001b[1;31m#Add chocolate count to confectioneries list\u001b[0m\u001b[1;33m\u001b[0m\u001b[1;33m\u001b[0m\u001b[1;33m\u001b[0m\u001b[0m\n\u001b[1;32m---> 21\u001b[1;33m                 \u001b[0mself\u001b[0m\u001b[1;33m.\u001b[0m\u001b[0mconfectionaries\u001b[0m\u001b[1;33m[\u001b[0m\u001b[0mi\u001b[0m\u001b[1;33m]\u001b[0m\u001b[1;33m[\u001b[0m\u001b[1;36m1\u001b[0m\u001b[1;33m]\u001b[0m \u001b[1;33m=\u001b[0m \u001b[0mitm\u001b[0m\u001b[1;33m\u001b[0m\u001b[1;33m\u001b[0m\u001b[0m\n\u001b[0m\u001b[0;32m     22\u001b[0m             \u001b[0mi\u001b[0m \u001b[1;33m=\u001b[0m \u001b[0mi\u001b[0m \u001b[1;33m+\u001b[0m \u001b[1;36m1\u001b[0m\u001b[1;33m\u001b[0m\u001b[1;33m\u001b[0m\u001b[0m\n\u001b[0;32m     23\u001b[0m \u001b[1;33m\u001b[0m\u001b[0m\n",
      "\u001b[1;31mIndexError\u001b[0m: list index out of range"
     ]
    }
   ],
   "source": [
    "class Confectionery:\n",
    "    \n",
    "    # Class constructor\n",
    "    def __init__(self, confectionaries, input_file, output_file):\n",
    "        self.confectionaries = confectionaries\n",
    "        self.input_file = input_file\n",
    "        self.output_file = output_file\n",
    "        \n",
    "    def initConfectioneries(self, size):\n",
    "        for i in size:\n",
    "            self.confectionaries.append(['', 0])\n",
    "\n",
    "    def addToConfectioneries(self, itemArray, itemType):\n",
    "        i = 0\n",
    "        # Delimiting the input chocolates list\n",
    "        items = itemArray.split('/')\n",
    "        for itm in items:\n",
    "            itm = itm.strip()\n",
    "            if(itemType == 'CHOC'):\n",
    "                # Add chocolate names to confectioneries list after removing\n",
    "                # trailing spaces and special characters\n",
    "                self.confectionaries[i][0] = itm.rstrip(' .*$!@#$%^&*,')\n",
    "            else:\n",
    "                #Add chocolate count to confectioneries list\n",
    "                self.confectionaries[i][1] = itm\n",
    "            i = i + 1\n",
    "            \n",
    "    def orderConfectioneryIncr(self, isIncrOrder):\n",
    "        temp = -1\n",
    "        i = 0\n",
    "        j = -1\n",
    "        # Linear sort - Using bubble sort\n",
    "        while (i < len(self.confectionaries)):\n",
    "            j = i\n",
    "            while (j < len(self.confectionaries)):\n",
    "                if( (isIncrOrder and (int(self.confectionaries[i][1]) > int(self.confectionaries[j][1]))) \n",
    "                      or ((not isIncrOrder) and (int(self.confectionaries[i][1]) < int(self.confectionaries[j][1]))) ):\n",
    "                        temp = self.confectionaries[j]\n",
    "                        self.confectionaries[j] = self.confectionaries[i]\n",
    "                        self.confectionaries[i] = temp\n",
    "                j += 1\n",
    "            i += 1\n",
    "        # Print result to output file\n",
    "        with open(self.output_file, mode = 'a') as f:\n",
    "            f.write('Iterative Solution:')\n",
    "            f.write('\\n' + 'Chocolate:' + ' / '.join([choc for choc,count in self.confectionaries]))\n",
    "            f.write('\\n' + 'Number:' + ' / '.join([count for choc,count in self.confectionaries]) + '\\n\\n')\n",
    "            \n",
    "    \n",
    "    def prepareConfectioneries(self, inputfile):\n",
    "        try:\n",
    "            with open(inputfile) as file:\n",
    "                # Read each line of command and data\n",
    "                for line in file:\n",
    "                    # Split command and data\n",
    "                    line = line.split(':')\n",
    "                    self.initConfectioneries(len(line))\n",
    "                    \n",
    "                    # Extract Chocoloate names and create confectionaries list\n",
    "                    if ( ( 'chocolate' in line[0].lower() ) and ( 'order' not in line[0].lower() ) ):\n",
    "                        self.addToConfectioneries(line[1], 'CHOC')\n",
    "                        \n",
    "                    # Extract the Chocoloate counts and add to confectionaries list\n",
    "                    elif ( ( 'number' in line[0].lower() ) and ( 'order' not in line[0].lower() ) ):\n",
    "                        self.addToConfectioneries(line[1], 'NUM')\n",
    "                        \n",
    "                    # Arrange confectionaries\n",
    "                    elif ( 'order' in line[0].lower() ):\n",
    "                        incr = True if ( ( 'high to low' in line[1].lower() ) or ( 'incr' in line[1].lower() ) or ( 'asc' in line[1].lower() )) else False\n",
    "                        decr = True if ( ( 'low to high' in line[1].lower() ) or ( 'decr' in line[1].lower() ) or ( 'desc' in line[1].lower() )) else False\n",
    "                        # Handling error cases\n",
    "                        if (not incr and not decr) or (incr and decr):\n",
    "                            print('Invalid Command:',':'.join(line))\n",
    "                            print('Valid Commands: \\n1. Order chocolate by number: High to Low \\n2. Order chocolate by number: Increasing')\n",
    "                        else:\n",
    "                            # Arranging Confectionaries\n",
    "                            self.orderConfectioneryIncr(incr)\n",
    "                        \n",
    "        except IOError:\n",
    "            # Print file read error\n",
    "            print(\"Could not read file:\", inputfile)\n",
    "        \n",
    "\n",
    "# Driver code\n",
    "if __name__ == \"__main__\":\n",
    "    # Create a confectioneries list from contents in 'inputPS05.txt'\n",
    "    c = Confectionery([], 'inputPS05.txt', 'outputPS05.txt')\n",
    "    open(c.output_file, mode = 'w').close()\n",
    "    c.prepareConfectioneries(c.input_file)\n"
   ]
  },
  {
   "cell_type": "code",
   "execution_count": null,
   "metadata": {},
   "outputs": [],
   "source": []
  },
  {
   "cell_type": "code",
   "execution_count": null,
   "metadata": {},
   "outputs": [],
   "source": []
  },
  {
   "cell_type": "code",
   "execution_count": null,
   "metadata": {},
   "outputs": [],
   "source": []
  },
  {
   "cell_type": "code",
   "execution_count": null,
   "metadata": {},
   "outputs": [],
   "source": []
  },
  {
   "cell_type": "code",
   "execution_count": 234,
   "metadata": {},
   "outputs": [],
   "source": [
    "# confectionaries = [['Nestle', '123'], ['Amul', '231'], ['Parle', '89'], ['M&M', '156'], ['Mars', '99'], ['Campco', '278']]"
   ]
  },
  {
   "cell_type": "code",
   "execution_count": 207,
   "metadata": {},
   "outputs": [
    {
     "name": "stdout",
     "output_type": "stream",
     "text": [
      "3.8.3\n"
     ]
    }
   ],
   "source": [
    "from platform import python_version\n",
    "\n",
    "print(python_version())"
   ]
  },
  {
   "cell_type": "code",
   "execution_count": null,
   "metadata": {},
   "outputs": [],
   "source": []
  },
  {
   "cell_type": "code",
   "execution_count": null,
   "metadata": {},
   "outputs": [],
   "source": []
  },
  {
   "cell_type": "code",
   "execution_count": null,
   "metadata": {},
   "outputs": [],
   "source": []
  },
  {
   "cell_type": "code",
   "execution_count": null,
   "metadata": {},
   "outputs": [],
   "source": []
  },
  {
   "cell_type": "code",
   "execution_count": null,
   "metadata": {},
   "outputs": [],
   "source": []
  },
  {
   "cell_type": "code",
   "execution_count": null,
   "metadata": {},
   "outputs": [],
   "source": []
  }
 ],
 "metadata": {
  "kernelspec": {
   "display_name": "Python 3",
   "language": "python",
   "name": "python3"
  },
  "language_info": {
   "codemirror_mode": {
    "name": "ipython",
    "version": 3
   },
   "file_extension": ".py",
   "mimetype": "text/x-python",
   "name": "python",
   "nbconvert_exporter": "python",
   "pygments_lexer": "ipython3",
   "version": "3.8.3"
  }
 },
 "nbformat": 4,
 "nbformat_minor": 5
}
