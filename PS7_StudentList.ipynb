{
 "cells": [
  {
   "cell_type": "markdown",
   "id": "0acc6106",
   "metadata": {},
   "source": [
    "<h1>Assignment 1 - PS07 - [Instructor Mapping]</h1>"
   ]
  },
  {
   "cell_type": "code",
   "execution_count": 23,
   "id": "33ed24d5",
   "metadata": {},
   "outputs": [
    {
     "name": "stdout",
     "output_type": "stream",
     "text": [
      "{'Manasa': ['Data Structures', 'Compiler Design', 'Software Engineering'], 'Venkat': ['Data Structures', 'Software Architecture', 'Cloud Computing', 'Distributed Computing'], 'Paul': ['Algorithm Design', 'Software Testing', 'Data Storage Technologies'], 'Harry': ['Cloud Computing', 'Distributed Computing'], 'Mary': ['Software Architecture', 'Software Engineering'], 'Shehza': ['Software Architecture', 'Software Engineering']}\n"
     ]
    }
   ],
   "source": [
    "class Graph:\n",
    "    \n",
    "    def __init__(self):\n",
    "        self.adj_list = {}\n",
    "\n",
    "    # function 1\n",
    "    def readApplications(self, inputfile):\n",
    "        i = 0\n",
    "        try:\n",
    "            with open(inputfile) as file:\n",
    "                for line in file:\n",
    "                    l = line.split('/')\n",
    "                    \n",
    "                    # Remove the front and back spaces\n",
    "                    j = 0\n",
    "                    for ln in l:\n",
    "                        l[j] = ln.strip()\n",
    "                        j += 1\n",
    "                        \n",
    "                    self.adj_list[l[0]] = l[1:]\n",
    "                    i += 1\n",
    "            print(self.adj_list)\n",
    "            \n",
    "        except IOError:\n",
    "            print(\"Could not read file:\", inputfile)\n",
    "            \n",
    "    # function 2\n",
    "    def showAll(self):\n",
    "        file = 'outputPS7.txt'\n",
    "        try:\n",
    "            with open(file, mode = 'w') as f:\n",
    "                f.write('--------Function showAll--------\\n')\n",
    "                names_list = self.adj_list.keys()\n",
    "                #course_set = set(self.adj_list.values())\n",
    "                #print(course_set)\n",
    "                f.write(\"\\nTotal no. of candidates:\")\n",
    "                f.write(str(len( names_list )))\n",
    "                #f.write(\"\\nTotal no. of Courses:\")\n",
    "                #f.write(str(len( names_list )))\n",
    "                f.write(\"\\n\\nList of candidates:\\n\")\n",
    "                f.writelines([\"%s\\n\" %item for item in names_list])\n",
    "                f.write(\"-\"*65)\n",
    "            \n",
    "        except OSError:\n",
    "            print(\"Failed creating the file\")\n",
    "            \n",
    "# Driver code\n",
    "if __name__ == \"__main__\":\n",
    "    # Create a graph from contents in 'inputPS7.txt'\n",
    "    g = Graph()\n",
    "    g.readApplications('inputPS7.txt')\n",
    "    g.showAll()\n"
   ]
  },
  {
   "cell_type": "code",
   "execution_count": null,
   "id": "eff389b4",
   "metadata": {},
   "outputs": [],
   "source": []
  },
  {
   "cell_type": "code",
   "execution_count": 95,
   "id": "1b7b73c0",
   "metadata": {},
   "outputs": [
    {
     "name": "stdout",
     "output_type": "stream",
     "text": [
      "Total no. of candidates: 5\n",
      "List of candidates:\n",
      "Manasa\n",
      "Venkat\n",
      "Paul\n",
      "Harry\n",
      "Mary\n"
     ]
    }
   ],
   "source": [
    "class Graph:\n",
    "\n",
    "    # function 2\n",
    "    def showAll(self):\n",
    "        namesList = graph.keys();\n",
    "        print(\"Total no. of candidates:\", len( namesList ) )\n",
    "        print(\"List of candidates:\")\n",
    "        print(*namesList, sep=\"\\n\")\n",
    "\n",
    "        # # # write into file\n",
    "        \n",
    "# Driver code\n",
    "if __name__ == \"__main__\":\n",
    "    # Create a graph from contents in 'inputPS7.txt'\n",
    "    g = Graph()\n",
    "    g.showAll()\n"
   ]
  },
  {
   "cell_type": "code",
   "execution_count": null,
   "id": "a1fe961b",
   "metadata": {},
   "outputs": [],
   "source": []
  },
  {
   "cell_type": "code",
   "execution_count": null,
   "id": "74f455de",
   "metadata": {},
   "outputs": [],
   "source": []
  },
  {
   "cell_type": "code",
   "execution_count": null,
   "id": "0971ec19",
   "metadata": {},
   "outputs": [],
   "source": []
  },
  {
   "cell_type": "code",
   "execution_count": null,
   "id": "8063fdf4",
   "metadata": {},
   "outputs": [],
   "source": []
  }
 ],
 "metadata": {
  "kernelspec": {
   "display_name": "Python 3",
   "language": "python",
   "name": "python3"
  },
  "language_info": {
   "codemirror_mode": {
    "name": "ipython",
    "version": 3
   },
   "file_extension": ".py",
   "mimetype": "text/x-python",
   "name": "python",
   "nbconvert_exporter": "python",
   "pygments_lexer": "ipython3",
   "version": "3.8.8"
  }
 },
 "nbformat": 4,
 "nbformat_minor": 5
}
