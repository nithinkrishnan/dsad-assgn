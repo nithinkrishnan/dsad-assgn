{
 "cells": [
  {
   "cell_type": "markdown",
   "metadata": {},
   "source": [
    "<h1>Assignment 1 - PS07 - [Instructor Mapping]</h1>"
   ]
  },
  {
   "cell_type": "code",
   "execution_count": 137,
   "metadata": {},
   "outputs": [
    {
     "name": "stdout",
     "output_type": "stream",
     "text": [
      "List successfully written into: outputPS7.txt\n",
      "['Manasa', 'Venkat']\n"
     ]
    }
   ],
   "source": [
    "class Graph:\n",
    "    \n",
    "    def __init__(self):\n",
    "        self.adj_list = {}\n",
    "        \n",
    "    # Internal function: returns Instructors name as a list\n",
    "    def getCandidatesList(self, adjacencyList):\n",
    "        return adjacencyList.keys()\n",
    "    \n",
    "    # Internal function: returns Instructors name as a list\n",
    "    def getCoursesList(self, adjacencyList):\n",
    "        uniqueList = {''}\n",
    "        \n",
    "        for l in adj_list.values():\n",
    "            uniqueList = uniqueList.union(set(l))\n",
    "\n",
    "        uniqueList = [*uniqueList][1:]\n",
    "        return uniqueList;\n",
    "\n",
    "\n",
    "    # # # # # # # Function 1 # # # # # # # \n",
    "    # Reads the '/' separated list\n",
    "    # and converts it into a graph and prepares the adjacency list\n",
    "    def readApplications(self, inputfile):\n",
    "        i = 0\n",
    "        try:\n",
    "            with open(inputfile) as file:\n",
    "                for line in file:\n",
    "                    l = line.split('/')\n",
    "                    # # # Trim the courses # # #\n",
    "                    j = 0\n",
    "                    for ln in l:\n",
    "                        l[j] = ln.strip()\n",
    "                        j += 1\n",
    "                    self.adj_list[l[0]] = l[1:]\n",
    "                    i += 1\n",
    "        except IOError:\n",
    "            print(\"Could not read file:\", inputfile)\n",
    "            \n",
    "    \n",
    "    # # # # # # # Function 2 # # # # # # # \n",
    "    # Shows the list of all instructors and their courses\n",
    "    def showAll(self):\n",
    "        fileName = 'outputPS7.txt'\n",
    "        \n",
    "        try:\n",
    "            with open(fileName, mode = 'w') as f:\n",
    "                f.write('--------Function showAll--------\\n')\n",
    "                names_list = self.getCandidatesList(self.adj_list)\n",
    "                courses_list = self.getCoursesList(self.adj_list)\n",
    "                f.write(\"\\nTotal no. of candidates:\")\n",
    "                f.write(str(len( names_list )))\n",
    "                f.write(\"\\nTotal no. of courses:\")\n",
    "                f.write(str(len( courses_list )))\n",
    "                f.write(\"\\n\\nList of candidates:\\n\")\n",
    "                f.writelines([\"%s\\n\" %item for item in names_list])\n",
    "                f.write(\"\\nList of courses:\\n\")\n",
    "                f.writelines([\"%s\\n\" %item for item in courses_list])\n",
    "                f.write(\"-\"*65)\n",
    "                print(\"List successfully written into:\", fileName);\n",
    "                \n",
    "        except OSError:\n",
    "            print(\"Failed creating the file\")\n",
    "            \n",
    "    # # # # # # # Function 3 # # # # # # # \n",
    "    # Shows the list of all instructors and their courses\n",
    "    def displayCandidates(self, course):\n",
    "        i = 0;\n",
    "        keys = [*adj_list.keys()]\n",
    "        instrList = []\n",
    "        for val in adj_list.values():\n",
    "            if(course in val):\n",
    "                instrList.append(keys[i])\n",
    "            i += 1;\n",
    "        return instrList\n",
    "            \n",
    "# Driver code\n",
    "if __name__ == \"__main__\":\n",
    "    # Create a graph from contents in 'inputPS7.txt'\n",
    "    g = Graph()\n",
    "    g.readApplications('inputPS7.txt')\n",
    "    g.showAll()\n",
    "    print(g.displayCandidates('Data Structures'))\n"
   ]
  },
  {
   "cell_type": "code",
   "execution_count": null,
   "metadata": {},
   "outputs": [],
   "source": []
  },
  {
   "cell_type": "code",
   "execution_count": null,
   "metadata": {},
   "outputs": [],
   "source": []
  },
  {
   "cell_type": "code",
   "execution_count": 132,
   "metadata": {},
   "outputs": [
    {
     "name": "stdout",
     "output_type": "stream",
     "text": [
      "['Manasa', 'Mary', 'Shehza']\n"
     ]
    }
   ],
   "source": [
    "course = 'Software Engineering'\n",
    "adj_list = {\n",
    "    'Manasa': ['Data Structures', 'Compiler Design', 'Software Engineering'],\n",
    "    'Venkat': ['Data Structures', 'Software Architecture', 'Cloud Computing', 'Distributed Computing'],\n",
    "    'Paul': ['Algorithm Design', 'Software Testing', 'Data Storage Technologies'],\n",
    "    'Harry': ['Cloud Computing', 'Distributed Computing'],\n",
    "    'Mary': ['Software Architecture', 'Software Engineering'],\n",
    "    'M': [],\n",
    "    'Shehza': ['Software Architecture', 'Software Engineering']\n",
    "}\n",
    "\n",
    "i = 0;\n",
    "keys = [*adj_list.keys()]\n",
    "instrList = []\n",
    "for val in adj_list.values():\n",
    "    if(course in val):\n",
    "        instrList.append(keys[i])\n",
    "    i += 1;\n",
    "\n",
    "\n",
    "print(instrList)"
   ]
  },
  {
   "cell_type": "code",
   "execution_count": null,
   "metadata": {},
   "outputs": [],
   "source": []
  },
  {
   "cell_type": "code",
   "execution_count": null,
   "metadata": {},
   "outputs": [],
   "source": []
  },
  {
   "cell_type": "code",
   "execution_count": null,
   "metadata": {},
   "outputs": [],
   "source": []
  }
 ],
 "metadata": {
  "kernelspec": {
   "display_name": "Python 3",
   "language": "python",
   "name": "python3"
  },
  "language_info": {
   "codemirror_mode": {
    "name": "ipython",
    "version": 3
   },
   "file_extension": ".py",
   "mimetype": "text/x-python",
   "name": "python",
   "nbconvert_exporter": "python",
   "pygments_lexer": "ipython3",
   "version": "3.8.3"
  }
 },
 "nbformat": 4,
 "nbformat_minor": 5
}
