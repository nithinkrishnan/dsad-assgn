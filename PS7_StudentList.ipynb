{
 "cells": [
  {
   "cell_type": "markdown",
   "metadata": {},
   "source": [
    "<h1>Assignment 1 - PS07 - [Instructor Mapping]</h1>"
   ]
  },
  {
   "cell_type": "code",
   "execution_count": 94,
   "metadata": {},
   "outputs": [
    {
     "name": "stdout",
     "output_type": "stream",
     "text": [
      "{'Manasa': ['Data Structures', 'Compiler Design', 'Software Engineering'], 'Venkat': ['Data Structures', 'Software Architecture', 'Cloud Computing', 'Distributed Computing'], 'Paul': ['Algorithm Design', 'Software Testing', 'Data Storage Technologies'], 'Harry': ['Cloud Computing', 'Distributed Computing'], 'Mary': ['Software Architecture', 'Software Engineering'], 'Shehza': ['Software Architecture', 'Software Engineering']}\n",
      "dict_keys(['Manasa', 'Venkat', 'Paul', 'Harry', 'Mary'])\n",
      "Total no. of candidates: 5\n",
      "List of candidates:\n",
      "Manasa\n",
      "Venkat\n",
      "Paul\n",
      "Harry\n",
      "Mary\n"
     ]
    }
   ],
   "source": [
    "class Graph:\n",
    "\n",
    "    # function 1\n",
    "    def readApplications(self, inputfile):\n",
    "        graph = {}\n",
    "        i = 0\n",
    "        try:\n",
    "            with open(inputfile) as file:\n",
    "                for line in file:\n",
    "                    l = line.split('/')\n",
    "                    \n",
    "                    # Remove the front and back spaces\n",
    "                    j = 0\n",
    "                    for ln in l:\n",
    "                        l[j] = ln.strip()\n",
    "                        j += 1\n",
    "                        \n",
    "                    graph[l[0]] = l[1:]\n",
    "                    i += 1\n",
    "            print(graph)\n",
    "        except IOError:\n",
    "            print(\"Could not read file:\", fName)\n",
    "\n",
    "            \n",
    "    # function 2\n",
    "    def showAll(self):\n",
    "        namesList = graph.keys();\n",
    "        print(graph.keys())\n",
    "        print(\"Total no. of candidates:\", len( namesList ) )\n",
    "        print(\"List of candidates:\")\n",
    "        print(*namesList, sep=\"\\n\")\n",
    "            \n",
    "# Driver code\n",
    "if __name__ == \"__main__\":\n",
    "    # Create a graph from contents in 'inputPS7.txt'\n",
    "    g = Graph()\n",
    "    g.readApplications('inputPS7.txt')\n",
    "    g.showAll()\n"
   ]
  },
  {
   "cell_type": "code",
   "execution_count": null,
   "metadata": {},
   "outputs": [],
   "source": []
  },
  {
   "cell_type": "code",
   "execution_count": 95,
   "metadata": {},
   "outputs": [
    {
     "name": "stdout",
     "output_type": "stream",
     "text": [
      "Total no. of candidates: 5\n",
      "List of candidates:\n",
      "Manasa\n",
      "Venkat\n",
      "Paul\n",
      "Harry\n",
      "Mary\n"
     ]
    }
   ],
   "source": [
    "class Graph:\n",
    "\n",
    "    # function 2\n",
    "    def showAll(self):\n",
    "        namesList = graph.keys();\n",
    "        print(\"Total no. of candidates:\", len( namesList ) )\n",
    "        print(\"List of candidates:\")\n",
    "        print(*namesList, sep=\"\\n\")\n",
    "\n",
    "        # # # write into file\n",
    "        \n",
    "# Driver code\n",
    "if __name__ == \"__main__\":\n",
    "    # Create a graph from contents in 'inputPS7.txt'\n",
    "    g = Graph()\n",
    "    g.showAll()\n"
   ]
  },
  {
   "cell_type": "code",
   "execution_count": null,
   "metadata": {},
   "outputs": [],
   "source": []
  },
  {
   "cell_type": "code",
   "execution_count": null,
   "metadata": {},
   "outputs": [],
   "source": []
  },
  {
   "cell_type": "code",
   "execution_count": null,
   "metadata": {},
   "outputs": [],
   "source": []
  },
  {
   "cell_type": "code",
   "execution_count": null,
   "metadata": {},
   "outputs": [],
   "source": []
  }
 ],
 "metadata": {
  "kernelspec": {
   "display_name": "Python 3",
   "language": "python",
   "name": "python3"
  },
  "language_info": {
   "codemirror_mode": {
    "name": "ipython",
    "version": 3
   },
   "file_extension": ".py",
   "mimetype": "text/x-python",
   "name": "python",
   "nbconvert_exporter": "python",
   "pygments_lexer": "ipython3",
   "version": "3.8.3"
  }
 },
 "nbformat": 4,
 "nbformat_minor": 5
}
